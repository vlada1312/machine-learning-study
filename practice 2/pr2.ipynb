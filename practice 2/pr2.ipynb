{
 "cells": [
  {
   "cell_type": "code",
   "execution_count": 1,
   "metadata": {},
   "outputs": [],
   "source": [
    "import warnings\n",
    "warnings.filterwarnings('ignore')\n",
    "\n",
    "import pandas as pd\n",
    "from matplotlib import pyplot as plt\n",
    "from sklearn.model_selection import train_test_split\n",
    "from sklearn.linear_model import LinearRegression\n",
    "\n",
    "\n",
    "%matplotlib inline"
   ]
  },
  {
   "cell_type": "markdown",
   "metadata": {},
   "source": [
    "Задание:  \n",
    "построить по многорядному полиномиальному алгоритму метода группового учета аргументов модель предметной области, заданной ретроспективным паттерном. \n",
    "В качестве опорной функции использовать функцию: y = a0 + a1xi + a2xj . В качестве обучающей выборки взять первые 20 значений паттерна, в качестве тестовой выборки, оставшиеся 5 паттерновисходной таблицы. Обучающую выборку поделить на две в соотношении: 60%\n",
    "и 40% (непосредственно обучающая выборка и проверочная выборка для\n",
    "отбора по МГУА). Провести сравнение значений исходной модели и модели,\n",
    "построенной по МГУА. Результат сравнения представить в таблице. Построить\n",
    "график значений исходной модели и модели, построенной по МГУА.\n",
    "Просчитать среднюю ошибку аппроксимации и сделать вывод о качестве\n",
    "обученной модели по методы МГУА."
   ]
  },
  {
   "cell_type": "markdown",
   "metadata": {},
   "source": [
    "## Подготовка данных"
   ]
  },
  {
   "cell_type": "code",
   "execution_count": 2,
   "metadata": {},
   "outputs": [
    {
     "data": {
      "text/html": [
       "<div>\n",
       "<style scoped>\n",
       "    .dataframe tbody tr th:only-of-type {\n",
       "        vertical-align: middle;\n",
       "    }\n",
       "\n",
       "    .dataframe tbody tr th {\n",
       "        vertical-align: top;\n",
       "    }\n",
       "\n",
       "    .dataframe thead th {\n",
       "        text-align: right;\n",
       "    }\n",
       "</style>\n",
       "<table border=\"1\" class=\"dataframe\">\n",
       "  <thead>\n",
       "    <tr style=\"text-align: right;\">\n",
       "      <th></th>\n",
       "      <th>y</th>\n",
       "      <th>x1</th>\n",
       "      <th>x2</th>\n",
       "      <th>x3</th>\n",
       "      <th>x4</th>\n",
       "    </tr>\n",
       "  </thead>\n",
       "  <tbody>\n",
       "    <tr>\n",
       "      <th>0</th>\n",
       "      <td>0.904</td>\n",
       "      <td>75.5</td>\n",
       "      <td>25.2</td>\n",
       "      <td>3343</td>\n",
       "      <td>77.0</td>\n",
       "    </tr>\n",
       "    <tr>\n",
       "      <th>1</th>\n",
       "      <td>0.922</td>\n",
       "      <td>78.5</td>\n",
       "      <td>21.8</td>\n",
       "      <td>3001</td>\n",
       "      <td>78.2</td>\n",
       "    </tr>\n",
       "    <tr>\n",
       "      <th>2</th>\n",
       "      <td>0.763</td>\n",
       "      <td>78.4</td>\n",
       "      <td>25.7</td>\n",
       "      <td>3101</td>\n",
       "      <td>68.0</td>\n",
       "    </tr>\n",
       "    <tr>\n",
       "      <th>3</th>\n",
       "      <td>0.923</td>\n",
       "      <td>77.7</td>\n",
       "      <td>17.8</td>\n",
       "      <td>3543</td>\n",
       "      <td>77.2</td>\n",
       "    </tr>\n",
       "    <tr>\n",
       "      <th>4</th>\n",
       "      <td>0.918</td>\n",
       "      <td>84.4</td>\n",
       "      <td>15.9</td>\n",
       "      <td>3237</td>\n",
       "      <td>77.2</td>\n",
       "    </tr>\n",
       "    <tr>\n",
       "      <th>5</th>\n",
       "      <td>0.906</td>\n",
       "      <td>75.9</td>\n",
       "      <td>22.4</td>\n",
       "      <td>3330</td>\n",
       "      <td>77.2</td>\n",
       "    </tr>\n",
       "    <tr>\n",
       "      <th>6</th>\n",
       "      <td>0.905</td>\n",
       "      <td>76.0</td>\n",
       "      <td>20.6</td>\n",
       "      <td>3808</td>\n",
       "      <td>75.7</td>\n",
       "    </tr>\n",
       "    <tr>\n",
       "      <th>7</th>\n",
       "      <td>0.545</td>\n",
       "      <td>67.5</td>\n",
       "      <td>25.2</td>\n",
       "      <td>2415</td>\n",
       "      <td>62.6</td>\n",
       "    </tr>\n",
       "    <tr>\n",
       "      <th>8</th>\n",
       "      <td>0.894</td>\n",
       "      <td>78.2</td>\n",
       "      <td>20.7</td>\n",
       "      <td>3295</td>\n",
       "      <td>78.0</td>\n",
       "    </tr>\n",
       "    <tr>\n",
       "      <th>9</th>\n",
       "      <td>0.900</td>\n",
       "      <td>78.1</td>\n",
       "      <td>17.5</td>\n",
       "      <td>3504</td>\n",
       "      <td>78.2</td>\n",
       "    </tr>\n",
       "    <tr>\n",
       "      <th>10</th>\n",
       "      <td>0.932</td>\n",
       "      <td>78.6</td>\n",
       "      <td>19.7</td>\n",
       "      <td>30565</td>\n",
       "      <td>79.0</td>\n",
       "    </tr>\n",
       "    <tr>\n",
       "      <th>11</th>\n",
       "      <td>0.740</td>\n",
       "      <td>84.0</td>\n",
       "      <td>18.5</td>\n",
       "      <td>3007</td>\n",
       "      <td>67.6</td>\n",
       "    </tr>\n",
       "    <tr>\n",
       "      <th>12</th>\n",
       "      <td>0.701</td>\n",
       "      <td>59.2</td>\n",
       "      <td>54.4</td>\n",
       "      <td>2844</td>\n",
       "      <td>69.8</td>\n",
       "    </tr>\n",
       "    <tr>\n",
       "      <th>13</th>\n",
       "      <td>0.744</td>\n",
       "      <td>90.2</td>\n",
       "      <td>23.0</td>\n",
       "      <td>2861</td>\n",
       "      <td>68.4</td>\n",
       "    </tr>\n",
       "    <tr>\n",
       "      <th>14</th>\n",
       "      <td>0.921</td>\n",
       "      <td>72.8</td>\n",
       "      <td>20.2</td>\n",
       "      <td>3259</td>\n",
       "      <td>77.9</td>\n",
       "    </tr>\n",
       "    <tr>\n",
       "      <th>15</th>\n",
       "      <td>0.927</td>\n",
       "      <td>67.7</td>\n",
       "      <td>25.2</td>\n",
       "      <td>3350</td>\n",
       "      <td>78.1</td>\n",
       "    </tr>\n",
       "    <tr>\n",
       "      <th>16</th>\n",
       "      <td>0.802</td>\n",
       "      <td>82.6</td>\n",
       "      <td>22.4</td>\n",
       "      <td>3344</td>\n",
       "      <td>72.5</td>\n",
       "    </tr>\n",
       "    <tr>\n",
       "      <th>17</th>\n",
       "      <td>0.747</td>\n",
       "      <td>74.4</td>\n",
       "      <td>22.7</td>\n",
       "      <td>2704</td>\n",
       "      <td>66.6</td>\n",
       "    </tr>\n",
       "    <tr>\n",
       "      <th>18</th>\n",
       "      <td>0.927</td>\n",
       "      <td>83.3</td>\n",
       "      <td>18.1</td>\n",
       "      <td>3642</td>\n",
       "      <td>76.7</td>\n",
       "    </tr>\n",
       "    <tr>\n",
       "      <th>19</th>\n",
       "      <td>0.721</td>\n",
       "      <td>83.7</td>\n",
       "      <td>20.1</td>\n",
       "      <td>2753</td>\n",
       "      <td>68.8</td>\n",
       "    </tr>\n",
       "    <tr>\n",
       "      <th>20</th>\n",
       "      <td>0.913</td>\n",
       "      <td>73.8</td>\n",
       "      <td>17.3</td>\n",
       "      <td>2916</td>\n",
       "      <td>76.8</td>\n",
       "    </tr>\n",
       "    <tr>\n",
       "      <th>21</th>\n",
       "      <td>0.918</td>\n",
       "      <td>79.2</td>\n",
       "      <td>16.8</td>\n",
       "      <td>3551</td>\n",
       "      <td>78.1</td>\n",
       "    </tr>\n",
       "    <tr>\n",
       "      <th>22</th>\n",
       "      <td>0.833</td>\n",
       "      <td>71.5</td>\n",
       "      <td>29.9</td>\n",
       "      <td>3177</td>\n",
       "      <td>73.9</td>\n",
       "    </tr>\n",
       "    <tr>\n",
       "      <th>23</th>\n",
       "      <td>0.914</td>\n",
       "      <td>75.3</td>\n",
       "      <td>20.3</td>\n",
       "      <td>3280</td>\n",
       "      <td>78.6</td>\n",
       "    </tr>\n",
       "    <tr>\n",
       "      <th>24</th>\n",
       "      <td>0.923</td>\n",
       "      <td>79.0</td>\n",
       "      <td>14.1</td>\n",
       "      <td>3160</td>\n",
       "      <td>78.5</td>\n",
       "    </tr>\n",
       "  </tbody>\n",
       "</table>\n",
       "</div>"
      ],
      "text/plain": [
       "        y    x1    x2     x3    x4\n",
       "0   0.904  75.5  25.2   3343  77.0\n",
       "1   0.922  78.5  21.8   3001  78.2\n",
       "2   0.763  78.4  25.7   3101  68.0\n",
       "3   0.923  77.7  17.8   3543  77.2\n",
       "4   0.918  84.4  15.9   3237  77.2\n",
       "5   0.906  75.9  22.4   3330  77.2\n",
       "6   0.905  76.0  20.6   3808  75.7\n",
       "7   0.545  67.5  25.2   2415  62.6\n",
       "8   0.894  78.2  20.7   3295  78.0\n",
       "9   0.900  78.1  17.5   3504  78.2\n",
       "10  0.932  78.6  19.7  30565  79.0\n",
       "11  0.740  84.0  18.5   3007  67.6\n",
       "12  0.701  59.2  54.4   2844  69.8\n",
       "13  0.744  90.2  23.0   2861  68.4\n",
       "14  0.921  72.8  20.2   3259  77.9\n",
       "15  0.927  67.7  25.2   3350  78.1\n",
       "16  0.802  82.6  22.4   3344  72.5\n",
       "17  0.747  74.4  22.7   2704  66.6\n",
       "18  0.927  83.3  18.1   3642  76.7\n",
       "19  0.721  83.7  20.1   2753  68.8\n",
       "20  0.913  73.8  17.3   2916  76.8\n",
       "21  0.918  79.2  16.8   3551  78.1\n",
       "22  0.833  71.5  29.9   3177  73.9\n",
       "23  0.914  75.3  20.3   3280  78.6\n",
       "24  0.923  79.0  14.1   3160  78.5"
      ]
     },
     "execution_count": 2,
     "metadata": {},
     "output_type": "execute_result"
    }
   ],
   "source": [
    "data = {\n",
    "    'y': [0.904, 0.922, 0.763, 0.923, 0.918, 0.906, 0.905, 0.545, 0.894, 0.9, \n",
    "          0.932, 0.74, 0.701, 0.744, 0.921, 0.927, 0.802, 0.747, 0.927, 0.721,\n",
    "          0.913, 0.918, 0.833, 0.914, 0.923],\n",
    "    'x1': [75.5, 78.5, 78.4, 77.7, 84.4, 75.9, 76, 67.5, 78.2, 78.1, \n",
    "           78.6, 84, 59.2, 90.2, 72.8, 67.7, 82.6, 74.4, 83.3, 83.7, \n",
    "           73.8, 79.2, 71.5, 75.3, 79],\n",
    "    'x2': [25.2, 21.8, 25.7, 17.8, 15.9, 22.4, 20.6, 25.2, 20.7, 17.5, \n",
    "           19.7, 18.5, 54.4, 23, 20.2, 25.2, 22.4, 22.7, 18.1, 20.1, \n",
    "           17.3, 16.8, 29.9, 20.3, 14.1],\n",
    "    'x3': [3343, 3001, 3101, 3543, 3237, 3330, 3808, 2415, 3295, 3504, \n",
    "           30565, 3007, 2844, 2861, 3259, 3350, 3344, 2704, 3642, 2753, \n",
    "           2916, 3551, 3177, 3280, 3160],\n",
    "    'x4': [77, 78.2, 68, 77.2, 77.2, 77.2, 75.7, 62.6, 78, 78.2, \n",
    "           79, 67.6, 69.8, 68.4, 77.9, 78.1, 72.5, 66.6, 76.7, 68.8, \n",
    "           76.8, 78.1, 73.9, 78.6, 78.5]\n",
    "}\n",
    "df = pd.DataFrame(data)\n",
    "df"
   ]
  },
  {
   "cell_type": "code",
   "execution_count": 3,
   "metadata": {},
   "outputs": [],
   "source": [
    "train_data = df.iloc[:20]\n",
    "test_data = df.iloc[20:]"
   ]
  },
  {
   "cell_type": "code",
   "execution_count": 4,
   "metadata": {},
   "outputs": [],
   "source": [
    "X_test = test_data.drop(columns=['y'])\n",
    "y_test = test_data['y']"
   ]
  },
  {
   "cell_type": "code",
   "execution_count": 5,
   "metadata": {},
   "outputs": [
    {
     "name": "stdout",
     "output_type": "stream",
     "text": [
      "     x1    x2    x3    x4\n",
      "0  75.5  25.2  3343  77.0\n",
      "1  78.5  21.8  3001  78.2\n",
      "2  78.4  25.7  3101  68.0\n",
      "3  77.7  17.8  3543  77.2\n",
      "4  84.4  15.9  3237  77.2\n",
      "0    0.904\n",
      "1    0.922\n",
      "2    0.763\n",
      "3    0.923\n",
      "4    0.918\n",
      "Name: y, dtype: float64\n"
     ]
    }
   ],
   "source": [
    "X_train_full = train_data.drop(columns=['y'])\n",
    "y_train_full = train_data['y']\n",
    "print(X_train_full.head())\n",
    "print(y_train_full.head())\n"
   ]
  },
  {
   "cell_type": "markdown",
   "metadata": {},
   "source": [
    "## Построим модель, используя МГУА"
   ]
  },
  {
   "cell_type": "markdown",
   "metadata": {},
   "source": [
    "60% данных остаются для непосредственного обучения (обучающая выборка — X_train, y_train)\n",
    "\n",
    "40% данных выделяются для валидации (проверочная выборка — X_val, y_val). val используется для проверки модели во время обучения, но не участвует в самом обучении"
   ]
  },
  {
   "cell_type": "code",
   "execution_count": 6,
   "metadata": {},
   "outputs": [],
   "source": [
    "X_train, X_val, y_train, y_val = train_test_split(X_train_full, y_train_full, test_size=0.4, random_state=42)"
   ]
  },
  {
   "attachments": {
    "image-2.png": {
     "image/png": "[encoded data removed]"
    }
   },
   "cell_type": "markdown",
   "metadata": {},
   "source": [
    "MSE (средняя квадратическая ошибка) — это оценка среднего значения квадрата ошибок, различие между предсказанием и фактическим значением.\n",
    "Вычисляется по формуле: ![image-2.png](attachment:image-2.png)"
   ]
  },
  {
   "cell_type": "code",
   "execution_count": 7,
   "metadata": {},
   "outputs": [],
   "source": [
    "from sklearn.metrics import mean_squared_error\n",
    "def compute_mse(y_true, y_pred):\n",
    "    return mean_squared_error(y_true, y_pred)"
   ]
  },
  {
   "attachments": {
    "image.png": {
     "image/png": "[encoded data removed]"
    }
   },
   "cell_type": "markdown",
   "metadata": {},
   "source": [
    "![image.png](attachment:image.png)"
   ]
  },
  {
   "cell_type": "code",
   "execution_count": 8,
   "metadata": {},
   "outputs": [],
   "source": [
    "def partial_description(X, y):\n",
    "    reg = LinearRegression()\n",
    "    reg.fit(X, y)\n",
    "    return reg.coef_, reg.intercept_"
   ]
  },
  {
   "cell_type": "code",
   "execution_count": 9,
   "metadata": {},
   "outputs": [],
   "source": [
    "from itertools import combinations\n",
    "def mgua(X_train, X_val, y_train, y_val, max_iterations=10):\n",
    "    best_models = []\n",
    "    best_mse = float('inf') # бесконечность\n",
    "    variable_combinations = list(combinations(X_train.columns, 2))\n",
    "    m = len(variable_combinations)\n",
    "    \n",
    "    for i in range(1, max_iterations + 1):\n",
    "        print(f\"Итерация {i}\")\n",
    "        models_for_iteration = []\n",
    "\n",
    "        for comb in variable_combinations:\n",
    "            X_combined_train = X_train[list(comb)]\n",
    "            X_combined_val = X_val[list(comb)]\n",
    "            \n",
    "            # Применяем МНК для текущей комбинации переменных на обучающей выборке, чтобы найти лучшие коэффициенты\n",
    "            coefficients, intercept = partial_description(X_combined_train, y_train)\n",
    "            # Предсказания на обучающей выборке (для дальнейших итераций)\n",
    "            y_pred_train = X_combined_train.dot(coefficients) + intercept\n",
    "            # Предсказания на валидационной выборке (для оценки модели)\n",
    "            y_pred_val = X_combined_val.dot(coefficients) + intercept\n",
    "\n",
    "            mse = compute_mse(y_val, y_pred_val)  \n",
    "            models_for_iteration.append({\n",
    "                'coefficients': coefficients,\n",
    "                'intercept': intercept,\n",
    "                'variables': comb,\n",
    "                'mse': mse,\n",
    "                'y_pred_train': y_pred_train,  \n",
    "                'y_pred_val': y_pred_val  \n",
    "            })\n",
    "\n",
    "        # Сортируем модели по MSE (чем меньше MSE, тем лучше)\n",
    "        models_for_iteration = sorted(models_for_iteration, key=lambda x: x['mse'])\n",
    "        f1 = int(m * 0.5) # отбираем половину\n",
    "        best_models_for_iteration = models_for_iteration[:f1]\n",
    "\n",
    "        # Минимальное значение MSE среди лучших моделей на этой итерации\n",
    "        min_mse_current = best_models_for_iteration[0]['mse']\n",
    "\n",
    "        print(f\"Лучшие модели на итерации {i}, количество - {f1}:\")\n",
    "        for model in best_models_for_iteration:\n",
    "            print(f\"Пара переменных: {model['variables']}, MSE: {model['mse']}\")\n",
    "        print(f\"Лучшее MSE в данной итерации: {min_mse_current}\")\n",
    "        \n",
    "        if min_mse_current < best_mse:\n",
    "            best_models.append(best_models_for_iteration[0])\n",
    "            best_mse = min_mse_current\n",
    "\n",
    "            # Сужаем пространство поиска (предсказания лучших моделей будут использоваться как новые признаки)\n",
    "            X_train_new = pd.DataFrame({f\"x{i}\": model['y_pred_train'] for i, model in enumerate(best_models_for_iteration)})\n",
    "            X_val_new = pd.DataFrame({f\"x{i}\": model['y_pred_val'] for i, model in enumerate(best_models_for_iteration)})\n",
    "            \n",
    "            f1 *= 0.5  # Уменьшаем количество моделей на следующем ряде селекции\n",
    "            variable_combinations = list(combinations(X_train_new.columns, 2))  \n",
    "            m = len(variable_combinations)\n",
    "            X_train = X_train_new\n",
    "            X_val = X_val_new\n",
    "        else:\n",
    "            print(f\"Ошибка не уменьшается на итерации {i}. Остановка\")\n",
    "            break\n",
    "            \n",
    "    return best_models\n"
   ]
  },
  {
   "cell_type": "code",
   "execution_count": 10,
   "metadata": {},
   "outputs": [
    {
     "name": "stdout",
     "output_type": "stream",
     "text": [
      "Итерация 1\n",
      "Лучшие модели на итерации 1, количество - 3:\n",
      "Пара переменных: ('x2', 'x4'), MSE: 0.0008278600392654224\n",
      "Пара переменных: ('x1', 'x4'), MSE: 0.0010612120609289305\n",
      "Пара переменных: ('x3', 'x4'), MSE: 0.001210217580415098\n",
      "Лучшее MSE в данной итерации: 0.0008278600392654224\n",
      "Итерация 2\n",
      "Лучшие модели на итерации 2, количество - 1:\n",
      "Пара переменных: ('x0', 'x2'), MSE: 0.0008964463558132182\n",
      "Лучшее MSE в данной итерации: 0.0008964463558132182\n",
      "Ошибка не уменьшается на итерации 2. Остановка\n"
     ]
    }
   ],
   "source": [
    "best_models = mgua(X_train, X_val, y_train, y_val)"
   ]
  },
  {
   "cell_type": "code",
   "execution_count": 11,
   "metadata": {},
   "outputs": [
    {
     "name": "stdout",
     "output_type": "stream",
     "text": [
      "Коэффициенты лучшей модели: [-0.0013616   0.02138596]\n",
      "intercept: -0.712031563627962\n",
      "NSE: 0.0008278600392654224\n",
      "Параметры: ('x2', 'x4')\n"
     ]
    }
   ],
   "source": [
    "best_model = best_models[-1]\n",
    "coefficients = best_model['coefficients']\n",
    "intercept = best_model['intercept']\n",
    "variables = best_model['variables']\n",
    "print(\"Коэффициенты лучшей модели:\", coefficients)\n",
    "print(\"intercept:\", intercept)\n",
    "print(\"NSE:\", best_model[\"mse\"])\n",
    "print(\"Параметры:\", variables)"
   ]
  },
  {
   "cell_type": "markdown",
   "metadata": {},
   "source": [
    "Получается, модель, построенная по многорядному полиномиальному аглоритму МГУА имеет вид: -0.712 - 0.001x2 + 0.0213x4"
   ]
  },
  {
   "cell_type": "code",
   "execution_count": 12,
   "metadata": {},
   "outputs": [
    {
     "name": "stdout",
     "output_type": "stream",
     "text": [
      "Сравнение значений:\n"
     ]
    },
    {
     "data": {
      "text/html": [
       "<div>\n",
       "<style scoped>\n",
       "    .dataframe tbody tr th:only-of-type {\n",
       "        vertical-align: middle;\n",
       "    }\n",
       "\n",
       "    .dataframe tbody tr th {\n",
       "        vertical-align: top;\n",
       "    }\n",
       "\n",
       "    .dataframe thead th {\n",
       "        text-align: right;\n",
       "    }\n",
       "</style>\n",
       "<table border=\"1\" class=\"dataframe\">\n",
       "  <thead>\n",
       "    <tr style=\"text-align: right;\">\n",
       "      <th></th>\n",
       "      <th>Actual</th>\n",
       "      <th>Predicted</th>\n",
       "    </tr>\n",
       "  </thead>\n",
       "  <tbody>\n",
       "    <tr>\n",
       "      <th>20</th>\n",
       "      <td>0.913</td>\n",
       "      <td>0.906855</td>\n",
       "    </tr>\n",
       "    <tr>\n",
       "      <th>21</th>\n",
       "      <td>0.918</td>\n",
       "      <td>0.935337</td>\n",
       "    </tr>\n",
       "    <tr>\n",
       "      <th>22</th>\n",
       "      <td>0.833</td>\n",
       "      <td>0.827679</td>\n",
       "    </tr>\n",
       "    <tr>\n",
       "      <th>23</th>\n",
       "      <td>0.914</td>\n",
       "      <td>0.941265</td>\n",
       "    </tr>\n",
       "    <tr>\n",
       "      <th>24</th>\n",
       "      <td>0.923</td>\n",
       "      <td>0.947568</td>\n",
       "    </tr>\n",
       "  </tbody>\n",
       "</table>\n",
       "</div>"
      ],
      "text/plain": [
       "    Actual  Predicted\n",
       "20   0.913   0.906855\n",
       "21   0.918   0.935337\n",
       "22   0.833   0.827679\n",
       "23   0.914   0.941265\n",
       "24   0.923   0.947568"
      ]
     },
     "execution_count": 12,
     "metadata": {},
     "output_type": "execute_result"
    }
   ],
   "source": [
    "X_test_combined = X_test[list(variables)]\n",
    "y_pred_mgua = X_test_combined.dot(coefficients) + intercept\n",
    "new_df_mgua = pd.DataFrame({'Actual': y_test, \"Predicted\": y_pred_mgua}) \n",
    "print(\"Сравнение значений:\")\n",
    "new_df_mgua"
   ]
  },
  {
   "cell_type": "code",
   "execution_count": 13,
   "metadata": {},
   "outputs": [
    {
     "data": {
      "text/plain": [
       "0.00034271751894955513"
      ]
     },
     "execution_count": 13,
     "metadata": {},
     "output_type": "execute_result"
    }
   ],
   "source": [
    "mse_mgua = compute_mse(y_test, y_pred_mgua)\n",
    "mse_mgua"
   ]
  },
  {
   "cell_type": "markdown",
   "metadata": {},
   "source": [
    "Величина MSE для модели МГУА составляет 0.00034, что является довольно низким значением. Это говорит о том, что модель по МГУА имеет высокую точность предсказаний"
   ]
  },
  {
   "cell_type": "code",
   "execution_count": 14,
   "metadata": {},
   "outputs": [
    {
     "data": {
      "image/png": "[encoded data removed]",
      "text/plain": [
       "<Figure size 1000x600 with 1 Axes>"
      ]
     },
     "metadata": {},
     "output_type": "display_data"
    }
   ],
   "source": [
    "plt.figure(figsize=(10, 6))\n",
    "plt.plot(y_test, label='Actual', color='blue')\n",
    "plt.plot(y_pred_mgua, label='Predicted MGUA', linestyle='--', color='red')\n",
    "plt.title(\"Сравнение исходной модели и модели по МГУА\")\n",
    "plt.legend()\n",
    "plt.grid(True)\n",
    "plt.show()"
   ]
  },
  {
   "cell_type": "markdown",
   "metadata": {},
   "source": [
    "Предсказания модели МГУА немного отличаются от реальных значений в точках, но отклонения незначительны"
   ]
  }
 ],
 "metadata": {
  "kernelspec": {
   "display_name": "Python 3",
   "language": "python",
   "name": "python3"
  },
  "language_info": {
   "codemirror_mode": {
    "name": "ipython",
    "version": 3
   },
   "file_extension": ".py",
   "mimetype": "text/x-python",
   "name": "python",
   "nbconvert_exporter": "python",
   "pygments_lexer": "ipython3",
   "version": "3.11.3"
  }
 },
 "nbformat": 4,
 "nbformat_minor": 2
}
